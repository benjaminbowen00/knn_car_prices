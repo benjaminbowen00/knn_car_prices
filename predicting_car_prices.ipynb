{
 "cells": [
  {
   "cell_type": "code",
   "execution_count": 1,
   "metadata": {},
   "outputs": [],
   "source": [
    "import pandas as pd\n",
    "import matplotlib.pyplot as plt\n",
    "import numpy as np\n",
    "import re\n",
    "%matplotlib inline"
   ]
  },
  {
   "cell_type": "markdown",
   "metadata": {},
   "source": [
    "Information about the data set is from https://archive.ics.uci.edu/ml/datasets/automobile\n",
    "Data is available to download from: https://archive.ics.uci.edu/ml/machine-learning-databases/autos/imports-85.data\n",
    "As the column names are not included in the .data file, the attribute information is saved in a .txt file and extracted"
   ]
  },
  {
   "cell_type": "code",
   "execution_count": 2,
   "metadata": {},
   "outputs": [],
   "source": [
    "with open('car_attribute_information.txt') as f:\n",
    "    text = f.read()\n",
    "    index_names = re.findall(r'[0-9]{1,2}. ([\\w-]+):', text)"
   ]
  },
  {
   "cell_type": "code",
   "execution_count": 3,
   "metadata": {},
   "outputs": [],
   "source": [
    "car_df = pd.read_csv('imports-85.data', names=index_names)"
   ]
  },
  {
   "cell_type": "code",
   "execution_count": 4,
   "metadata": {},
   "outputs": [
    {
     "data": {
      "text/html": [
       "<div>\n",
       "<style scoped>\n",
       "    .dataframe tbody tr th:only-of-type {\n",
       "        vertical-align: middle;\n",
       "    }\n",
       "\n",
       "    .dataframe tbody tr th {\n",
       "        vertical-align: top;\n",
       "    }\n",
       "\n",
       "    .dataframe thead th {\n",
       "        text-align: right;\n",
       "    }\n",
       "</style>\n",
       "<table border=\"1\" class=\"dataframe\">\n",
       "  <thead>\n",
       "    <tr style=\"text-align: right;\">\n",
       "      <th></th>\n",
       "      <th>symboling</th>\n",
       "      <th>normalized-losses</th>\n",
       "      <th>make</th>\n",
       "      <th>fuel-type</th>\n",
       "      <th>aspiration</th>\n",
       "      <th>num-of-doors</th>\n",
       "      <th>body-style</th>\n",
       "      <th>drive-wheels</th>\n",
       "      <th>engine-location</th>\n",
       "      <th>wheel-base</th>\n",
       "      <th>...</th>\n",
       "      <th>engine-size</th>\n",
       "      <th>fuel-system</th>\n",
       "      <th>bore</th>\n",
       "      <th>stroke</th>\n",
       "      <th>compression-ratio</th>\n",
       "      <th>horsepower</th>\n",
       "      <th>peak-rpm</th>\n",
       "      <th>city-mpg</th>\n",
       "      <th>highway-mpg</th>\n",
       "      <th>price</th>\n",
       "    </tr>\n",
       "  </thead>\n",
       "  <tbody>\n",
       "    <tr>\n",
       "      <th>0</th>\n",
       "      <td>3</td>\n",
       "      <td>?</td>\n",
       "      <td>alfa-romero</td>\n",
       "      <td>gas</td>\n",
       "      <td>std</td>\n",
       "      <td>two</td>\n",
       "      <td>convertible</td>\n",
       "      <td>rwd</td>\n",
       "      <td>front</td>\n",
       "      <td>88.6</td>\n",
       "      <td>...</td>\n",
       "      <td>130</td>\n",
       "      <td>mpfi</td>\n",
       "      <td>3.47</td>\n",
       "      <td>2.68</td>\n",
       "      <td>9.0</td>\n",
       "      <td>111</td>\n",
       "      <td>5000</td>\n",
       "      <td>21</td>\n",
       "      <td>27</td>\n",
       "      <td>13495</td>\n",
       "    </tr>\n",
       "    <tr>\n",
       "      <th>1</th>\n",
       "      <td>3</td>\n",
       "      <td>?</td>\n",
       "      <td>alfa-romero</td>\n",
       "      <td>gas</td>\n",
       "      <td>std</td>\n",
       "      <td>two</td>\n",
       "      <td>convertible</td>\n",
       "      <td>rwd</td>\n",
       "      <td>front</td>\n",
       "      <td>88.6</td>\n",
       "      <td>...</td>\n",
       "      <td>130</td>\n",
       "      <td>mpfi</td>\n",
       "      <td>3.47</td>\n",
       "      <td>2.68</td>\n",
       "      <td>9.0</td>\n",
       "      <td>111</td>\n",
       "      <td>5000</td>\n",
       "      <td>21</td>\n",
       "      <td>27</td>\n",
       "      <td>16500</td>\n",
       "    </tr>\n",
       "    <tr>\n",
       "      <th>2</th>\n",
       "      <td>1</td>\n",
       "      <td>?</td>\n",
       "      <td>alfa-romero</td>\n",
       "      <td>gas</td>\n",
       "      <td>std</td>\n",
       "      <td>two</td>\n",
       "      <td>hatchback</td>\n",
       "      <td>rwd</td>\n",
       "      <td>front</td>\n",
       "      <td>94.5</td>\n",
       "      <td>...</td>\n",
       "      <td>152</td>\n",
       "      <td>mpfi</td>\n",
       "      <td>2.68</td>\n",
       "      <td>3.47</td>\n",
       "      <td>9.0</td>\n",
       "      <td>154</td>\n",
       "      <td>5000</td>\n",
       "      <td>19</td>\n",
       "      <td>26</td>\n",
       "      <td>16500</td>\n",
       "    </tr>\n",
       "  </tbody>\n",
       "</table>\n",
       "<p>3 rows × 26 columns</p>\n",
       "</div>"
      ],
      "text/plain": [
       "   symboling normalized-losses         make fuel-type aspiration num-of-doors  \\\n",
       "0          3                 ?  alfa-romero       gas        std          two   \n",
       "1          3                 ?  alfa-romero       gas        std          two   \n",
       "2          1                 ?  alfa-romero       gas        std          two   \n",
       "\n",
       "    body-style drive-wheels engine-location  wheel-base  ...  engine-size  \\\n",
       "0  convertible          rwd           front        88.6  ...          130   \n",
       "1  convertible          rwd           front        88.6  ...          130   \n",
       "2    hatchback          rwd           front        94.5  ...          152   \n",
       "\n",
       "   fuel-system  bore  stroke compression-ratio horsepower  peak-rpm city-mpg  \\\n",
       "0         mpfi  3.47    2.68               9.0        111      5000       21   \n",
       "1         mpfi  3.47    2.68               9.0        111      5000       21   \n",
       "2         mpfi  2.68    3.47               9.0        154      5000       19   \n",
       "\n",
       "  highway-mpg  price  \n",
       "0          27  13495  \n",
       "1          27  16500  \n",
       "2          26  16500  \n",
       "\n",
       "[3 rows x 26 columns]"
      ]
     },
     "execution_count": 4,
     "metadata": {},
     "output_type": "execute_result"
    }
   ],
   "source": [
    "car_df.head(3)"
   ]
  },
  {
   "cell_type": "code",
   "execution_count": 5,
   "metadata": {},
   "outputs": [
    {
     "name": "stdout",
     "output_type": "stream",
     "text": [
      "<class 'pandas.core.frame.DataFrame'>\n",
      "RangeIndex: 205 entries, 0 to 204\n",
      "Data columns (total 26 columns):\n",
      " #   Column             Non-Null Count  Dtype  \n",
      "---  ------             --------------  -----  \n",
      " 0   symboling          205 non-null    int64  \n",
      " 1   normalized-losses  205 non-null    object \n",
      " 2   make               205 non-null    object \n",
      " 3   fuel-type          205 non-null    object \n",
      " 4   aspiration         205 non-null    object \n",
      " 5   num-of-doors       205 non-null    object \n",
      " 6   body-style         205 non-null    object \n",
      " 7   drive-wheels       205 non-null    object \n",
      " 8   engine-location    205 non-null    object \n",
      " 9   wheel-base         205 non-null    float64\n",
      " 10  length             205 non-null    float64\n",
      " 11  width              205 non-null    float64\n",
      " 12  height             205 non-null    float64\n",
      " 13  curb-weight        205 non-null    int64  \n",
      " 14  engine-type        205 non-null    object \n",
      " 15  num-of-cylinders   205 non-null    object \n",
      " 16  engine-size        205 non-null    int64  \n",
      " 17  fuel-system        205 non-null    object \n",
      " 18  bore               205 non-null    object \n",
      " 19  stroke             205 non-null    object \n",
      " 20  compression-ratio  205 non-null    float64\n",
      " 21  horsepower         205 non-null    object \n",
      " 22  peak-rpm           205 non-null    object \n",
      " 23  city-mpg           205 non-null    int64  \n",
      " 24  highway-mpg        205 non-null    int64  \n",
      " 25  price              205 non-null    object \n",
      "dtypes: float64(5), int64(5), object(16)\n",
      "memory usage: 41.8+ KB\n"
     ]
    }
   ],
   "source": [
    "car_df.info()"
   ]
  },
  {
   "cell_type": "markdown",
   "metadata": {},
   "source": [
    "There are no NaN values, but there are '?' in place."
   ]
  },
  {
   "cell_type": "code",
   "execution_count": 6,
   "metadata": {},
   "outputs": [],
   "source": [
    "car_df = car_df.replace('?', np.NaN)"
   ]
  },
  {
   "cell_type": "code",
   "execution_count": 7,
   "metadata": {},
   "outputs": [
    {
     "name": "stdout",
     "output_type": "stream",
     "text": [
      "<class 'pandas.core.frame.DataFrame'>\n",
      "RangeIndex: 205 entries, 0 to 204\n",
      "Data columns (total 26 columns):\n",
      " #   Column             Non-Null Count  Dtype  \n",
      "---  ------             --------------  -----  \n",
      " 0   symboling          205 non-null    int64  \n",
      " 1   normalized-losses  164 non-null    object \n",
      " 2   make               205 non-null    object \n",
      " 3   fuel-type          205 non-null    object \n",
      " 4   aspiration         205 non-null    object \n",
      " 5   num-of-doors       203 non-null    object \n",
      " 6   body-style         205 non-null    object \n",
      " 7   drive-wheels       205 non-null    object \n",
      " 8   engine-location    205 non-null    object \n",
      " 9   wheel-base         205 non-null    float64\n",
      " 10  length             205 non-null    float64\n",
      " 11  width              205 non-null    float64\n",
      " 12  height             205 non-null    float64\n",
      " 13  curb-weight        205 non-null    int64  \n",
      " 14  engine-type        205 non-null    object \n",
      " 15  num-of-cylinders   205 non-null    object \n",
      " 16  engine-size        205 non-null    int64  \n",
      " 17  fuel-system        205 non-null    object \n",
      " 18  bore               201 non-null    object \n",
      " 19  stroke             201 non-null    object \n",
      " 20  compression-ratio  205 non-null    float64\n",
      " 21  horsepower         203 non-null    object \n",
      " 22  peak-rpm           203 non-null    object \n",
      " 23  city-mpg           205 non-null    int64  \n",
      " 24  highway-mpg        205 non-null    int64  \n",
      " 25  price              201 non-null    object \n",
      "dtypes: float64(5), int64(5), object(16)\n",
      "memory usage: 41.8+ KB\n"
     ]
    }
   ],
   "source": [
    "car_df.info()"
   ]
  },
  {
   "cell_type": "code",
   "execution_count": 8,
   "metadata": {},
   "outputs": [
    {
     "data": {
      "text/plain": [
       "four    114\n",
       "two      89\n",
       "NaN       2\n",
       "Name: num-of-doors, dtype: int64"
      ]
     },
     "execution_count": 8,
     "metadata": {},
     "output_type": "execute_result"
    }
   ],
   "source": [
    "car_df['num-of-cylinders'].value_counts(dropna=False)\n",
    "car_df['num-of-doors'].value_counts(dropna=False)"
   ]
  },
  {
   "cell_type": "markdown",
   "metadata": {},
   "source": [
    "Function to convert num-of-cylinders and num-of-doors from text to integers. Only need to go up to 12"
   ]
  },
  {
   "cell_type": "code",
   "execution_count": 9,
   "metadata": {},
   "outputs": [],
   "source": [
    "def convert_text_to_int(text):\n",
    "    if pd.isnull(text):\n",
    "        return text\n",
    "    conversion = {\n",
    "        'one':1,\n",
    "        'two':2,\n",
    "        'three':3,\n",
    "        'four':4,\n",
    "        'five':5,\n",
    "        'six':6,\n",
    "        'seven':7,\n",
    "        'eight':8,\n",
    "        'nine':9,\n",
    "        'ten':10,\n",
    "        'eleven':11,\n",
    "        'twelve':12\n",
    "    }\n",
    "    return conversion[text]"
   ]
  },
  {
   "cell_type": "code",
   "execution_count": 10,
   "metadata": {},
   "outputs": [],
   "source": [
    "car_df['num-of-doors'] = car_df['num-of-doors'].apply(convert_text_to_int)\n",
    "car_df['num-of-cylinders'] = car_df['num-of-cylinders'].apply(convert_text_to_int)"
   ]
  },
  {
   "cell_type": "code",
   "execution_count": 11,
   "metadata": {},
   "outputs": [],
   "source": [
    "car_df['price'] = car_df['price'].astype('float')\n",
    "car_df['bore']=car_df['bore'].astype('float')\n",
    "car_df['stroke']=car_df['stroke'].astype('float')\n",
    "car_df['horsepower']=car_df['horsepower'].astype('float')\n",
    "car_df['peak-rpm']=car_df['peak-rpm'].astype('float')\n",
    "car_df['price']=car_df['price'].astype('float')"
   ]
  },
  {
   "cell_type": "code",
   "execution_count": 12,
   "metadata": {},
   "outputs": [
    {
     "name": "stdout",
     "output_type": "stream",
     "text": [
      "<class 'pandas.core.frame.DataFrame'>\n",
      "RangeIndex: 205 entries, 0 to 204\n",
      "Data columns (total 26 columns):\n",
      " #   Column             Non-Null Count  Dtype  \n",
      "---  ------             --------------  -----  \n",
      " 0   symboling          205 non-null    int64  \n",
      " 1   normalized-losses  164 non-null    object \n",
      " 2   make               205 non-null    object \n",
      " 3   fuel-type          205 non-null    object \n",
      " 4   aspiration         205 non-null    object \n",
      " 5   num-of-doors       203 non-null    float64\n",
      " 6   body-style         205 non-null    object \n",
      " 7   drive-wheels       205 non-null    object \n",
      " 8   engine-location    205 non-null    object \n",
      " 9   wheel-base         205 non-null    float64\n",
      " 10  length             205 non-null    float64\n",
      " 11  width              205 non-null    float64\n",
      " 12  height             205 non-null    float64\n",
      " 13  curb-weight        205 non-null    int64  \n",
      " 14  engine-type        205 non-null    object \n",
      " 15  num-of-cylinders   205 non-null    int64  \n",
      " 16  engine-size        205 non-null    int64  \n",
      " 17  fuel-system        205 non-null    object \n",
      " 18  bore               201 non-null    float64\n",
      " 19  stroke             201 non-null    float64\n",
      " 20  compression-ratio  205 non-null    float64\n",
      " 21  horsepower         203 non-null    float64\n",
      " 22  peak-rpm           203 non-null    float64\n",
      " 23  city-mpg           205 non-null    int64  \n",
      " 24  highway-mpg        205 non-null    int64  \n",
      " 25  price              201 non-null    float64\n",
      "dtypes: float64(11), int64(6), object(9)\n",
      "memory usage: 41.8+ KB\n"
     ]
    }
   ],
   "source": [
    "car_df.info()"
   ]
  },
  {
   "cell_type": "markdown",
   "metadata": {},
   "source": [
    "Drop normalized-losses due to the high proportion of NaN values. Drop any non quantitative values."
   ]
  },
  {
   "cell_type": "code",
   "execution_count": 13,
   "metadata": {},
   "outputs": [],
   "source": [
    "cols_to_drop = ['normalized-losses', 'make', 'fuel-type', 'aspiration', 'body-style', 'drive-wheels', \n",
    "                'engine-location', 'engine-type', 'fuel-system', ]\n",
    "car_df.drop(cols_to_drop, axis=1, inplace=True)"
   ]
  },
  {
   "cell_type": "code",
   "execution_count": 14,
   "metadata": {},
   "outputs": [
    {
     "name": "stdout",
     "output_type": "stream",
     "text": [
      "<class 'pandas.core.frame.DataFrame'>\n",
      "RangeIndex: 205 entries, 0 to 204\n",
      "Data columns (total 17 columns):\n",
      " #   Column             Non-Null Count  Dtype  \n",
      "---  ------             --------------  -----  \n",
      " 0   symboling          205 non-null    int64  \n",
      " 1   num-of-doors       203 non-null    float64\n",
      " 2   wheel-base         205 non-null    float64\n",
      " 3   length             205 non-null    float64\n",
      " 4   width              205 non-null    float64\n",
      " 5   height             205 non-null    float64\n",
      " 6   curb-weight        205 non-null    int64  \n",
      " 7   num-of-cylinders   205 non-null    int64  \n",
      " 8   engine-size        205 non-null    int64  \n",
      " 9   bore               201 non-null    float64\n",
      " 10  stroke             201 non-null    float64\n",
      " 11  compression-ratio  205 non-null    float64\n",
      " 12  horsepower         203 non-null    float64\n",
      " 13  peak-rpm           203 non-null    float64\n",
      " 14  city-mpg           205 non-null    int64  \n",
      " 15  highway-mpg        205 non-null    int64  \n",
      " 16  price              201 non-null    float64\n",
      "dtypes: float64(11), int64(6)\n",
      "memory usage: 27.4 KB\n"
     ]
    }
   ],
   "source": [
    "car_df.info()"
   ]
  },
  {
   "cell_type": "code",
   "execution_count": 15,
   "metadata": {},
   "outputs": [],
   "source": [
    "car_df.dropna(inplace=True)"
   ]
  },
  {
   "cell_type": "code",
   "execution_count": 16,
   "metadata": {},
   "outputs": [
    {
     "name": "stdout",
     "output_type": "stream",
     "text": [
      "<class 'pandas.core.frame.DataFrame'>\n",
      "Int64Index: 193 entries, 0 to 204\n",
      "Data columns (total 17 columns):\n",
      " #   Column             Non-Null Count  Dtype  \n",
      "---  ------             --------------  -----  \n",
      " 0   symboling          193 non-null    int64  \n",
      " 1   num-of-doors       193 non-null    float64\n",
      " 2   wheel-base         193 non-null    float64\n",
      " 3   length             193 non-null    float64\n",
      " 4   width              193 non-null    float64\n",
      " 5   height             193 non-null    float64\n",
      " 6   curb-weight        193 non-null    int64  \n",
      " 7   num-of-cylinders   193 non-null    int64  \n",
      " 8   engine-size        193 non-null    int64  \n",
      " 9   bore               193 non-null    float64\n",
      " 10  stroke             193 non-null    float64\n",
      " 11  compression-ratio  193 non-null    float64\n",
      " 12  horsepower         193 non-null    float64\n",
      " 13  peak-rpm           193 non-null    float64\n",
      " 14  city-mpg           193 non-null    int64  \n",
      " 15  highway-mpg        193 non-null    int64  \n",
      " 16  price              193 non-null    float64\n",
      "dtypes: float64(11), int64(6)\n",
      "memory usage: 27.1 KB\n"
     ]
    }
   ],
   "source": [
    "car_df.info()"
   ]
  },
  {
   "cell_type": "markdown",
   "metadata": {},
   "source": [
    "We now have a data set of 193 to work with"
   ]
  },
  {
   "cell_type": "markdown",
   "metadata": {},
   "source": [
    "#### Standardize the remaning feature values"
   ]
  },
  {
   "cell_type": "code",
   "execution_count": 17,
   "metadata": {},
   "outputs": [],
   "source": [
    "from sklearn.preprocessing import StandardScaler"
   ]
  },
  {
   "cell_type": "code",
   "execution_count": 18,
   "metadata": {},
   "outputs": [],
   "source": [
    "scaler = StandardScaler()"
   ]
  },
  {
   "cell_type": "code",
   "execution_count": 19,
   "metadata": {},
   "outputs": [
    {
     "data": {
      "text/plain": [
       "StandardScaler(copy=True, with_mean=True, with_std=True)"
      ]
     },
     "execution_count": 19,
     "metadata": {},
     "output_type": "execute_result"
    }
   ],
   "source": [
    "scaler.fit(car_df.drop(\"price\", axis = 1))"
   ]
  },
  {
   "cell_type": "code",
   "execution_count": 20,
   "metadata": {},
   "outputs": [],
   "source": [
    "scaled_features = scaler.transform(car_df.drop('price', axis = 1))"
   ]
  },
  {
   "cell_type": "code",
   "execution_count": 21,
   "metadata": {},
   "outputs": [
    {
     "data": {
      "text/html": [
       "<div>\n",
       "<style scoped>\n",
       "    .dataframe tbody tr th:only-of-type {\n",
       "        vertical-align: middle;\n",
       "    }\n",
       "\n",
       "    .dataframe tbody tr th {\n",
       "        vertical-align: top;\n",
       "    }\n",
       "\n",
       "    .dataframe thead th {\n",
       "        text-align: right;\n",
       "    }\n",
       "</style>\n",
       "<table border=\"1\" class=\"dataframe\">\n",
       "  <thead>\n",
       "    <tr style=\"text-align: right;\">\n",
       "      <th></th>\n",
       "      <th>symboling</th>\n",
       "      <th>num-of-doors</th>\n",
       "      <th>wheel-base</th>\n",
       "      <th>length</th>\n",
       "      <th>width</th>\n",
       "      <th>height</th>\n",
       "      <th>curb-weight</th>\n",
       "      <th>num-of-cylinders</th>\n",
       "      <th>engine-size</th>\n",
       "      <th>bore</th>\n",
       "      <th>stroke</th>\n",
       "      <th>compression-ratio</th>\n",
       "      <th>horsepower</th>\n",
       "      <th>peak-rpm</th>\n",
       "      <th>city-mpg</th>\n",
       "      <th>highway-mpg</th>\n",
       "    </tr>\n",
       "  </thead>\n",
       "  <tbody>\n",
       "    <tr>\n",
       "      <th>0</th>\n",
       "      <td>1.78685</td>\n",
       "      <td>-1.175889</td>\n",
       "      <td>-1.682379</td>\n",
       "      <td>-0.444024</td>\n",
       "      <td>-0.841263</td>\n",
       "      <td>-2.122598</td>\n",
       "      <td>-0.025713</td>\n",
       "      <td>-0.411247</td>\n",
       "      <td>0.045215</td>\n",
       "      <td>0.513027</td>\n",
       "      <td>-1.808186</td>\n",
       "      <td>-0.288273</td>\n",
       "      <td>0.198569</td>\n",
       "      <td>-0.213359</td>\n",
       "      <td>-0.679053</td>\n",
       "      <td>-0.557058</td>\n",
       "    </tr>\n",
       "    <tr>\n",
       "      <th>1</th>\n",
       "      <td>1.78685</td>\n",
       "      <td>-1.175889</td>\n",
       "      <td>-1.682379</td>\n",
       "      <td>-0.444024</td>\n",
       "      <td>-0.841263</td>\n",
       "      <td>-2.122598</td>\n",
       "      <td>-0.025713</td>\n",
       "      <td>-0.411247</td>\n",
       "      <td>0.045215</td>\n",
       "      <td>0.513027</td>\n",
       "      <td>-1.808186</td>\n",
       "      <td>-0.288273</td>\n",
       "      <td>0.198569</td>\n",
       "      <td>-0.213359</td>\n",
       "      <td>-0.679053</td>\n",
       "      <td>-0.557058</td>\n",
       "    </tr>\n",
       "    <tr>\n",
       "      <th>2</th>\n",
       "      <td>0.16397</td>\n",
       "      <td>-1.175889</td>\n",
       "      <td>-0.720911</td>\n",
       "      <td>-0.251195</td>\n",
       "      <td>-0.184679</td>\n",
       "      <td>-0.615412</td>\n",
       "      <td>0.497764</td>\n",
       "      <td>1.548523</td>\n",
       "      <td>0.575559</td>\n",
       "      <td>-2.394827</td>\n",
       "      <td>0.702918</td>\n",
       "      <td>-0.288273</td>\n",
       "      <td>1.334283</td>\n",
       "      <td>-0.213359</td>\n",
       "      <td>-0.992963</td>\n",
       "      <td>-0.704134</td>\n",
       "    </tr>\n",
       "  </tbody>\n",
       "</table>\n",
       "</div>"
      ],
      "text/plain": [
       "   symboling  num-of-doors  wheel-base    length     width    height  \\\n",
       "0    1.78685     -1.175889   -1.682379 -0.444024 -0.841263 -2.122598   \n",
       "1    1.78685     -1.175889   -1.682379 -0.444024 -0.841263 -2.122598   \n",
       "2    0.16397     -1.175889   -0.720911 -0.251195 -0.184679 -0.615412   \n",
       "\n",
       "   curb-weight  num-of-cylinders  engine-size      bore    stroke  \\\n",
       "0    -0.025713         -0.411247     0.045215  0.513027 -1.808186   \n",
       "1    -0.025713         -0.411247     0.045215  0.513027 -1.808186   \n",
       "2     0.497764          1.548523     0.575559 -2.394827  0.702918   \n",
       "\n",
       "   compression-ratio  horsepower  peak-rpm  city-mpg  highway-mpg  \n",
       "0          -0.288273    0.198569 -0.213359 -0.679053    -0.557058  \n",
       "1          -0.288273    0.198569 -0.213359 -0.679053    -0.557058  \n",
       "2          -0.288273    1.334283 -0.213359 -0.992963    -0.704134  "
      ]
     },
     "execution_count": 21,
     "metadata": {},
     "output_type": "execute_result"
    }
   ],
   "source": [
    "cars = pd.DataFrame(scaled_features, columns = car_df.columns[:-1])\n",
    "cars.head(3)\n"
   ]
  },
  {
   "cell_type": "code",
   "execution_count": 22,
   "metadata": {},
   "outputs": [
    {
     "name": "stdout",
     "output_type": "stream",
     "text": [
      "<class 'pandas.core.frame.DataFrame'>\n",
      "RangeIndex: 193 entries, 0 to 192\n",
      "Data columns (total 16 columns):\n",
      " #   Column             Non-Null Count  Dtype  \n",
      "---  ------             --------------  -----  \n",
      " 0   symboling          193 non-null    float64\n",
      " 1   num-of-doors       193 non-null    float64\n",
      " 2   wheel-base         193 non-null    float64\n",
      " 3   length             193 non-null    float64\n",
      " 4   width              193 non-null    float64\n",
      " 5   height             193 non-null    float64\n",
      " 6   curb-weight        193 non-null    float64\n",
      " 7   num-of-cylinders   193 non-null    float64\n",
      " 8   engine-size        193 non-null    float64\n",
      " 9   bore               193 non-null    float64\n",
      " 10  stroke             193 non-null    float64\n",
      " 11  compression-ratio  193 non-null    float64\n",
      " 12  horsepower         193 non-null    float64\n",
      " 13  peak-rpm           193 non-null    float64\n",
      " 14  city-mpg           193 non-null    float64\n",
      " 15  highway-mpg        193 non-null    float64\n",
      "dtypes: float64(16)\n",
      "memory usage: 24.2 KB\n",
      "<class 'pandas.core.frame.DataFrame'>\n",
      "Int64Index: 193 entries, 0 to 204\n",
      "Data columns (total 17 columns):\n",
      " #   Column             Non-Null Count  Dtype  \n",
      "---  ------             --------------  -----  \n",
      " 0   symboling          193 non-null    int64  \n",
      " 1   num-of-doors       193 non-null    float64\n",
      " 2   wheel-base         193 non-null    float64\n",
      " 3   length             193 non-null    float64\n",
      " 4   width              193 non-null    float64\n",
      " 5   height             193 non-null    float64\n",
      " 6   curb-weight        193 non-null    int64  \n",
      " 7   num-of-cylinders   193 non-null    int64  \n",
      " 8   engine-size        193 non-null    int64  \n",
      " 9   bore               193 non-null    float64\n",
      " 10  stroke             193 non-null    float64\n",
      " 11  compression-ratio  193 non-null    float64\n",
      " 12  horsepower         193 non-null    float64\n",
      " 13  peak-rpm           193 non-null    float64\n",
      " 14  city-mpg           193 non-null    int64  \n",
      " 15  highway-mpg        193 non-null    int64  \n",
      " 16  price              193 non-null    float64\n",
      "dtypes: float64(11), int64(6)\n",
      "memory usage: 27.1 KB\n"
     ]
    }
   ],
   "source": [
    "cars.info()\n",
    "car_df.info()"
   ]
  },
  {
   "cell_type": "code",
   "execution_count": 23,
   "metadata": {},
   "outputs": [],
   "source": [
    "cars['price'] = car_df['price'].reset_index(drop=True)\n"
   ]
  },
  {
   "cell_type": "markdown",
   "metadata": {},
   "source": [
    "Add back the price column to the dataframe that now has standardized values "
   ]
  },
  {
   "cell_type": "code",
   "execution_count": 24,
   "metadata": {},
   "outputs": [
    {
     "data": {
      "text/html": [
       "<div>\n",
       "<style scoped>\n",
       "    .dataframe tbody tr th:only-of-type {\n",
       "        vertical-align: middle;\n",
       "    }\n",
       "\n",
       "    .dataframe tbody tr th {\n",
       "        vertical-align: top;\n",
       "    }\n",
       "\n",
       "    .dataframe thead th {\n",
       "        text-align: right;\n",
       "    }\n",
       "</style>\n",
       "<table border=\"1\" class=\"dataframe\">\n",
       "  <thead>\n",
       "    <tr style=\"text-align: right;\">\n",
       "      <th></th>\n",
       "      <th>symboling</th>\n",
       "      <th>num-of-doors</th>\n",
       "      <th>wheel-base</th>\n",
       "      <th>length</th>\n",
       "      <th>width</th>\n",
       "      <th>height</th>\n",
       "      <th>curb-weight</th>\n",
       "      <th>num-of-cylinders</th>\n",
       "      <th>engine-size</th>\n",
       "      <th>bore</th>\n",
       "      <th>stroke</th>\n",
       "      <th>compression-ratio</th>\n",
       "      <th>horsepower</th>\n",
       "      <th>peak-rpm</th>\n",
       "      <th>city-mpg</th>\n",
       "      <th>highway-mpg</th>\n",
       "      <th>price</th>\n",
       "    </tr>\n",
       "  </thead>\n",
       "  <tbody>\n",
       "    <tr>\n",
       "      <th>0</th>\n",
       "      <td>1.78685</td>\n",
       "      <td>-1.175889</td>\n",
       "      <td>-1.682379</td>\n",
       "      <td>-0.444024</td>\n",
       "      <td>-0.841263</td>\n",
       "      <td>-2.122598</td>\n",
       "      <td>-0.025713</td>\n",
       "      <td>-0.411247</td>\n",
       "      <td>0.045215</td>\n",
       "      <td>0.513027</td>\n",
       "      <td>-1.808186</td>\n",
       "      <td>-0.288273</td>\n",
       "      <td>0.198569</td>\n",
       "      <td>-0.213359</td>\n",
       "      <td>-0.679053</td>\n",
       "      <td>-0.557058</td>\n",
       "      <td>13495.0</td>\n",
       "    </tr>\n",
       "    <tr>\n",
       "      <th>1</th>\n",
       "      <td>1.78685</td>\n",
       "      <td>-1.175889</td>\n",
       "      <td>-1.682379</td>\n",
       "      <td>-0.444024</td>\n",
       "      <td>-0.841263</td>\n",
       "      <td>-2.122598</td>\n",
       "      <td>-0.025713</td>\n",
       "      <td>-0.411247</td>\n",
       "      <td>0.045215</td>\n",
       "      <td>0.513027</td>\n",
       "      <td>-1.808186</td>\n",
       "      <td>-0.288273</td>\n",
       "      <td>0.198569</td>\n",
       "      <td>-0.213359</td>\n",
       "      <td>-0.679053</td>\n",
       "      <td>-0.557058</td>\n",
       "      <td>16500.0</td>\n",
       "    </tr>\n",
       "    <tr>\n",
       "      <th>2</th>\n",
       "      <td>0.16397</td>\n",
       "      <td>-1.175889</td>\n",
       "      <td>-0.720911</td>\n",
       "      <td>-0.251195</td>\n",
       "      <td>-0.184679</td>\n",
       "      <td>-0.615412</td>\n",
       "      <td>0.497764</td>\n",
       "      <td>1.548523</td>\n",
       "      <td>0.575559</td>\n",
       "      <td>-2.394827</td>\n",
       "      <td>0.702918</td>\n",
       "      <td>-0.288273</td>\n",
       "      <td>1.334283</td>\n",
       "      <td>-0.213359</td>\n",
       "      <td>-0.992963</td>\n",
       "      <td>-0.704134</td>\n",
       "      <td>16500.0</td>\n",
       "    </tr>\n",
       "  </tbody>\n",
       "</table>\n",
       "</div>"
      ],
      "text/plain": [
       "   symboling  num-of-doors  wheel-base    length     width    height  \\\n",
       "0    1.78685     -1.175889   -1.682379 -0.444024 -0.841263 -2.122598   \n",
       "1    1.78685     -1.175889   -1.682379 -0.444024 -0.841263 -2.122598   \n",
       "2    0.16397     -1.175889   -0.720911 -0.251195 -0.184679 -0.615412   \n",
       "\n",
       "   curb-weight  num-of-cylinders  engine-size      bore    stroke  \\\n",
       "0    -0.025713         -0.411247     0.045215  0.513027 -1.808186   \n",
       "1    -0.025713         -0.411247     0.045215  0.513027 -1.808186   \n",
       "2     0.497764          1.548523     0.575559 -2.394827  0.702918   \n",
       "\n",
       "   compression-ratio  horsepower  peak-rpm  city-mpg  highway-mpg    price  \n",
       "0          -0.288273    0.198569 -0.213359 -0.679053    -0.557058  13495.0  \n",
       "1          -0.288273    0.198569 -0.213359 -0.679053    -0.557058  16500.0  \n",
       "2          -0.288273    1.334283 -0.213359 -0.992963    -0.704134  16500.0  "
      ]
     },
     "execution_count": 24,
     "metadata": {},
     "output_type": "execute_result"
    }
   ],
   "source": [
    "cars.head(3)"
   ]
  },
  {
   "cell_type": "markdown",
   "metadata": {},
   "source": [
    "### Univariate model "
   ]
  },
  {
   "cell_type": "code",
   "execution_count": 25,
   "metadata": {},
   "outputs": [],
   "source": [
    "from sklearn.model_selection import train_test_split\n",
    "from sklearn.neighbors import KNeighborsRegressor\n",
    "from sklearn.metrics import mean_squared_error"
   ]
  },
  {
   "cell_type": "code",
   "execution_count": 26,
   "metadata": {},
   "outputs": [],
   "source": [
    "def knn_train_test(train_column, target_column, dataframe):\n",
    "    X = dataframe[[train_column]]\n",
    "    y = dataframe[target_column]\n",
    "    X_train, X_test, y_train, y_test = train_test_split(X, y, test_size=0.3, random_state=91)\n",
    "    knn = KNeighborsRegressor()\n",
    "    knn.fit(X_train, y_train)\n",
    "    predictions = knn.predict(X_test)\n",
    "    rmse = np.sqrt(mean_squared_error(predictions, y_test))\n",
    "    return rmse"
   ]
  },
  {
   "cell_type": "code",
   "execution_count": 27,
   "metadata": {},
   "outputs": [],
   "source": [
    "features= list(cars)[:-1]"
   ]
  },
  {
   "cell_type": "code",
   "execution_count": 28,
   "metadata": {},
   "outputs": [
    {
     "data": {
      "text/plain": [
       "2429.3771927857533"
      ]
     },
     "execution_count": 28,
     "metadata": {},
     "output_type": "execute_result"
    }
   ],
   "source": [
    "knn_train_test('engine-size', 'price', cars)"
   ]
  },
  {
   "cell_type": "code",
   "execution_count": 29,
   "metadata": {},
   "outputs": [
    {
     "data": {
      "text/plain": [
       "engine-size          2429.377193\n",
       "horsepower           2573.297187\n",
       "city-mpg             3758.380672\n",
       "highway-mpg          4088.619632\n",
       "width                4161.918887\n",
       "curb-weight          4262.996585\n",
       "num-of-cylinders     5265.703512\n",
       "compression-ratio    5383.079407\n",
       "wheel-base           5713.432533\n",
       "peak-rpm             5907.506862\n",
       "length               5932.495882\n",
       "bore                 6262.463047\n",
       "symboling            7162.927627\n",
       "stroke               7328.241481\n",
       "height               7511.068849\n",
       "num-of-doors         7717.734555\n",
       "Name: RMSE, dtype: float64"
      ]
     },
     "execution_count": 29,
     "metadata": {},
     "output_type": "execute_result"
    }
   ],
   "source": [
    "rmse_dict = {}\n",
    "for feat in features:\n",
    "    rmse = knn_train_test(feat, 'price', cars)\n",
    "    rmse_dict[feat]=rmse\n",
    "rmse_results_series = pd.Series(rmse_dict)\n",
    "rmse_results_series.sort_values(inplace=True)\n",
    "rmse_results_series.name = 'RMSE'\n",
    "rmse_results_series"
   ]
  },
  {
   "cell_type": "markdown",
   "metadata": {},
   "source": [
    "This shows that the engine-size column performed best. Having the lowest RMSE when predicting the value, although this is dependent on the sample taken. The best performing features for th train/test split used are:\n",
    "* engine-size\n",
    "* horsepower\n",
    "* city-mpg\n",
    "* highway-mpg\n",
    "* width  "
   ]
  },
  {
   "cell_type": "markdown",
   "metadata": {},
   "source": [
    "### Changing the value of K  "
   ]
  },
  {
   "cell_type": "code",
   "execution_count": 30,
   "metadata": {},
   "outputs": [],
   "source": [
    "def knn_train_test_i(train_column, target_column, dataframe, i):\n",
    "    X = dataframe[[train_column]]\n",
    "    y = dataframe[target_column]\n",
    "    X_train, X_test, y_train, y_test = train_test_split(X, y, test_size=0.3, random_state=91)\n",
    "    knn = KNeighborsRegressor(n_neighbors=i)\n",
    "    knn.fit(X_train, y_train)\n",
    "    predictions = knn.predict(X_test)\n",
    "    rmse = np.sqrt(mean_squared_error(predictions, y_test))\n",
    "    return rmse"
   ]
  },
  {
   "cell_type": "code",
   "execution_count": 31,
   "metadata": {},
   "outputs": [
    {
     "data": {
      "image/png": "[encoded data removed]",
      "text/plain": [
       "<Figure size 1440x720 with 1 Axes>"
      ]
     },
     "metadata": {
      "needs_background": "light"
     },
     "output_type": "display_data"
    }
   ],
   "source": [
    "k_values = list(range(1,10,2))\n",
    "plt.figure(figsize=(20,10))\n",
    "for feat in features:\n",
    "    rmses = []\n",
    "    for k in k_values:\n",
    "        rmses.append(knn_train_test_i(feat, 'price', cars, k))\n",
    "    plt.plot(k_values,rmses, label=feat)\n",
    "plt.title(\"RMSE against k value \", fontsize=16)\n",
    "plt.ylabel(\"RMSE\", fontsize=16)\n",
    "plt.xlabel(\"k values\", fontsize=16)\n",
    "plt.legend()\n",
    "plt.ylim(bottom=0)\n",
    "plt.show()"
   ]
  },
  {
   "cell_type": "markdown",
   "metadata": {},
   "source": [
    "This shows that in general over all the features a k value of 3 would be appropriate"
   ]
  },
  {
   "cell_type": "markdown",
   "metadata": {},
   "source": [
    "### knn for multiple columns "
   ]
  },
  {
   "cell_type": "code",
   "execution_count": 33,
   "metadata": {},
   "outputs": [],
   "source": [
    "def knn_train_test_multiple_columns(train_columns, target_column, dataframe, i):\n",
    "    X = dataframe[train_columns]\n",
    "    y = dataframe[target_column]\n",
    "    X_train, X_test, y_train, y_test = train_test_split(X, y, test_size=0.3, random_state=91)\n",
    "    knn = KNeighborsRegressor(n_neighbors=i)\n",
    "    knn.fit(X_train, y_train)\n",
    "    predictions = knn.predict(X_test)\n",
    "    rmse = np.sqrt(mean_squared_error(predictions, y_test))\n",
    "    return rmse"
   ]
  },
  {
   "cell_type": "code",
   "execution_count": 35,
   "metadata": {},
   "outputs": [],
   "source": [
    "best_features = [\"engine-size\", \"horsepower\", \"city-mpg\", \"highway-mpg\", \"width\"]\n",
    "n_features_rmse = {}\n",
    "for i in range(2,6):\n",
    "    rmse=knn_train_test_multiple_columns(best_features[:i], \"price\", cars, 5)\n",
    "    n_features_rmse[i]=rmse"
   ]
  },
  {
   "cell_type": "code",
   "execution_count": 36,
   "metadata": {},
   "outputs": [
    {
     "name": "stdout",
     "output_type": "stream",
     "text": [
      "For 2 features the rmse was 2512\n",
      "For 3 features the rmse was 2283\n",
      "For 4 features the rmse was 2166\n",
      "For 5 features the rmse was 3834\n"
     ]
    }
   ],
   "source": [
    "for k,v in n_features_rmse.items():\n",
    "    print(f\"For {k} features the rmse was {int(v)}\")"
   ]
  },
  {
   "cell_type": "markdown",
   "metadata": {},
   "source": [
    "This shows that for the train/test split used, considering four features gave the lowest RMSE. This was using a k of 5"
   ]
  },
  {
   "cell_type": "markdown",
   "metadata": {},
   "source": [
    "### Hyperparameter tuning \n",
    "The value of k will be varied to find which gives the lowest rmse.\n",
    "The best 5 features will be looked at."
   ]
  },
  {
   "cell_type": "code",
   "execution_count": 38,
   "metadata": {},
   "outputs": [
    {
     "name": "stdout",
     "output_type": "stream",
     "text": [
      "{'2 features': {1: 2540.595762333356, 2: 2319.4654138474416, 3: 1938.8712989244807, 4: 2161.590748651366, 5: 2512.9995444378474, 6: 2706.4239046262815, 7: 2951.3437113156283, 8: 3047.3523793133763, 9: 3235.55486114393, 10: 3352.445977604802, 11: 3521.1632920158095, 12: 3428.166178716905, 13: 3544.7286954838755, 14: 3648.862646043816, 15: 3710.9428473944936, 16: 3796.917336529611, 17: 3901.9703492277126, 18: 3978.5034588569956, 19: 4038.4639707861047, 20: 4023.811800213136, 21: 3998.4451590791414, 22: 4034.86713102585, 23: 4087.6368686926294, 24: 4178.377413870061}, '3 features': {1: 2444.9852901327477, 2: 1895.8404389155714, 3: 1962.8301479382192, 4: 2104.8327466009723, 5: 2283.5619928463543, 6: 2279.017379275181, 7: 2395.849637146333, 8: 2696.3962855281334, 9: 3007.3689544699896, 10: 3190.955966558806, 11: 3223.534794859164, 12: 3334.267699324201, 13: 3389.187719886953, 14: 3468.5011286608315, 15: 3504.634608399398, 16: 3655.8249174314565, 17: 3783.658492280573, 18: 3878.2266884724063, 19: 3951.515193883314, 20: 4026.466046120387, 21: 4122.520866312461, 22: 4164.481716207513, 23: 4184.177004572447, 24: 4217.648531617445}, '4 features': {1: 2650.067943175849, 2: 1885.7365740537934, 3: 2322.806533392499, 4: 2214.7391158538526, 5: 2166.0046965593683, 6: 2561.2404172774927, 7: 2919.96489210865, 8: 2930.4199332949856, 9: 3023.404933422443, 10: 3143.9388429330884, 11: 3258.370840955658, 12: 3266.211524855025, 13: 3389.7943219904805, 14: 3490.556191036502, 15: 3577.5265359894693, 16: 3715.2009581196767, 17: 3761.8993703247284, 18: 3786.783425632324, 19: 3825.18386437623, 20: 3890.2929331021883, 21: 3981.976144460436, 22: 4067.2740942133946, 23: 4086.5924334898496, 24: 4110.046784993131}, '5 features': {1: 2604.884658906589, 2: 3030.3445298889014, 3: 3359.1494285223102, 4: 3650.408225134459, 5: 3834.2118379050253, 6: 4031.848243560218, 7: 3844.745196402994, 8: 3764.121196186401, 9: 3842.0578823306687, 10: 3740.7588144330584, 11: 3688.6921172754655, 12: 3760.555663333632, 13: 3763.585938219614, 14: 3802.384735506404, 15: 3876.5091957224963, 16: 3941.275446348867, 17: 3994.150188480031, 18: 4012.170020568216, 19: 4017.1309997968806, 20: 4056.153820893631, 21: 4099.077667740748, 22: 4145.390234378852, 23: 4113.249507452707, 24: 4082.5981144602274}}\n"
     ]
    }
   ],
   "source": [
    "n_features_rmse_k = {}\n",
    "for i in range(2,6):\n",
    "    n_features_rmse_k[str(i)+\" features\"]={}\n",
    "    for k in range(1,25):\n",
    "        rmse=knn_train_test_multiple_columns(best_features[:i], \"price\", cars, k)\n",
    "        n_features_rmse_k[str(i)+\" features\"][k]=rmse\n",
    "print(n_features_rmse_k)"
   ]
  },
  {
   "cell_type": "code",
   "execution_count": 39,
   "metadata": {},
   "outputs": [
    {
     "data": {
      "image/png": "[encoded data removed]",
      "text/plain": [
       "<Figure size 432x288 with 1 Axes>"
      ]
     },
     "metadata": {
      "needs_background": "light"
     },
     "output_type": "display_data"
    }
   ],
   "source": [
    "for k,v in n_features_rmse_k.items():\n",
    "    x = list(v.keys())\n",
    "    y = list(v.values())\n",
    "    \n",
    "    plt.plot(x,y, label=k)\n",
    "    plt.xlabel('k value')\n",
    "    plt.ylabel('RMSE')\n",
    "    plt.legend()"
   ]
  },
  {
   "cell_type": "markdown",
   "metadata": {},
   "source": [
    "This shows that for 2,3or 4 features the RMSE, using a value of k of 2 or 3 gives the best results. Adding in a fifth feature changes this significantly."
   ]
  },
  {
   "cell_type": "markdown",
   "metadata": {},
   "source": [
    "### k-fold cross validation "
   ]
  },
  {
   "cell_type": "markdown",
   "metadata": {},
   "source": [
    "Using k-fold cross validation to eliminate bias from the selection of the train/test split."
   ]
  },
  {
   "cell_type": "code",
   "execution_count": 41,
   "metadata": {},
   "outputs": [],
   "source": [
    "from sklearn.model_selection import cross_val_score, KFold"
   ]
  },
  {
   "cell_type": "code",
   "execution_count": 58,
   "metadata": {},
   "outputs": [],
   "source": [
    "def knn_train_test_multiple_columns_cv(train_columns, target_column, dataframe, i, n_splits):\n",
    "    kf = KFold(n_splits=n_splits, shuffle=True, random_state=1)\n",
    "    knn = KNeighborsRegressor(n_neighbors=i)\n",
    "    mses = cross_val_score(knn, dataframe[train_columns], dataframe[target_column], scoring = 'neg_mean_squared_error', cv=kf)\n",
    "    rmses = np.sqrt(np.abs(mses))\n",
    "    avg_rmse = np.mean(rmses)\n",
    "    std_rmse = np.std(rmses)\n",
    "    return avg_rmse,std_rmse"
   ]
  },
  {
   "cell_type": "code",
   "execution_count": 60,
   "metadata": {},
   "outputs": [
    {
     "name": "stdout",
     "output_type": "stream",
     "text": [
      "With 2 folds the average rmse was 3282.0609147176865, the standard deviation was 290.565337716695\n",
      "With 3 folds the average rmse was 2865.4445143941666, the standard deviation was 358.23908596135874\n",
      "With 4 folds the average rmse was 3101.352889044345, the standard deviation was 357.84288048016447\n",
      "With 5 folds the average rmse was 3072.4174738446827, the standard deviation was 360.25873276385\n",
      "With 6 folds the average rmse was 2926.176878778224, the standard deviation was 652.5738743255189\n",
      "With 7 folds the average rmse was 2866.7180676522985, the standard deviation was 521.0088690380276\n",
      "With 8 folds the average rmse was 2772.137212994743, the standard deviation was 554.4730133090991\n",
      "With 9 folds the average rmse was 2747.91853958227, the standard deviation was 983.7714190295462\n",
      "With 10 folds the average rmse was 2757.4988369255684, the standard deviation was 909.4119444404608\n",
      "With 11 folds the average rmse was 2608.273732916671, the standard deviation was 1018.9949313770798\n",
      "With 12 folds the average rmse was 2711.2929394256203, the standard deviation was 965.817080821246\n",
      "With 13 folds the average rmse was 2683.794317728187, the standard deviation was 937.0996946261159\n",
      "With 14 folds the average rmse was 2686.635398467609, the standard deviation was 944.5204330495148\n",
      "With 15 folds the average rmse was 2646.064009229372, the standard deviation was 1072.4964452360143\n",
      "With 16 folds the average rmse was 2681.1587184708733, the standard deviation was 973.4308030398084\n",
      "With 17 folds the average rmse was 2655.9489879553576, the standard deviation was 1049.5960015975868\n",
      "With 18 folds the average rmse was 2702.621510855659, the standard deviation was 1148.6280969314107\n",
      "With 19 folds the average rmse was 2655.7574292258564, the standard deviation was 1105.3696053372998\n"
     ]
    }
   ],
   "source": [
    "for fold in range(2,20):\n",
    "    avg_rmse, std_rmse = knn_train_test_multiple_columns_cv(best_features[:2], 'price', cars,5, fold)\n",
    "    print(f\"With {fold} folds the average rmse was {avg_rmse}, the standard deviation was {std_rmse}\")"
   ]
  },
  {
   "cell_type": "markdown",
   "metadata": {},
   "source": [
    "The above was done using a k of 5."
   ]
  },
  {
   "cell_type": "code",
   "execution_count": null,
   "metadata": {},
   "outputs": [],
   "source": []
  }
 ],
 "metadata": {
  "kernelspec": {
   "display_name": "Python 3",
   "language": "python",
   "name": "python3"
  },
  "language_info": {
   "codemirror_mode": {
    "name": "ipython",
    "version": 3
   },
   "file_extension": ".py",
   "mimetype": "text/x-python",
   "name": "python",
   "nbconvert_exporter": "python",
   "pygments_lexer": "ipython3",
   "version": "3.8.1"
  }
 },
 "nbformat": 4,
 "nbformat_minor": 4
}
